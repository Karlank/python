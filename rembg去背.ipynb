{
  "nbformat": 4,
  "nbformat_minor": 0,
  "metadata": {
    "colab": {
      "provenance": [],
      "authorship_tag": "ABX9TyM0uqqw6G61BL9yRzUkbD8v",
      "include_colab_link": true
    },
    "kernelspec": {
      "name": "python3",
      "display_name": "Python 3"
    },
    "language_info": {
      "name": "python"
    }
  },
  "cells": [
    {
      "cell_type": "markdown",
      "metadata": {
        "id": "view-in-github",
        "colab_type": "text"
      },
      "source": [
        "<a href=\"https://colab.research.google.com/github/Karlank/python/blob/main/rembg%E5%8E%BB%E8%83%8C.ipynb\" target=\"_parent\"><img src=\"https://colab.research.google.com/assets/colab-badge.svg\" alt=\"Open In Colab\"/></a>"
      ]
    },
    {
      "cell_type": "code",
      "execution_count": null,
      "metadata": {
        "id": "EqXvFJazO9x4"
      },
      "outputs": [],
      "source": [
        "!pip install rembg # for library\n",
        "!pip install rembg[cli] # for library + cli"
      ]
    },
    {
      "cell_type": "code",
      "source": [
        "from rembg import remove\n",
        "\n",
        "input_path = '輸入.jpg'\n",
        "output_path = '輸出.jpg'\n",
        "\n",
        "with open(input_path, 'rb') as i:\n",
        "    with open(output_path, 'wb') as o:\n",
        "        input = i.read()\n",
        "        output = remove(input)\n",
        "        o.write(output)"
      ],
      "metadata": {
        "id": "FFrZMIqsRGjl"
      },
      "execution_count": null,
      "outputs": []
    }
  ]
}